{
 "cells": [
  {
   "cell_type": "markdown",
   "id": "6239e1b2",
   "metadata": {
    "id": "6239e1b2"
   },
   "source": [
    "# Example: Prospect Theory, Basket Option"
   ]
  },
  {
   "cell_type": "code",
   "execution_count": null,
   "id": "6aa9efbd",
   "metadata": {},
   "outputs": [],
   "source": [
    "import numpy as np\n",
    "import pandas as pd\n",
    "import matplotlib.pyplot as plt\n",
    "plt.style.use('bmh')\n",
    "import matplotlib\n",
    "matplotlib.rcParams.update({'font.size': 22})\n",
    "import tensorflow as tf\n",
    "from tensorflow import keras\n",
    "from tensorflow.keras import layers\n",
    "import tensorflow_probability as tfp\n",
    "import scipy\n",
    "import seaborn\n",
    "from tqdm import tqdm\n",
    "import yfinance as yf\n",
    "from scipy.stats import norm\n",
    "from optimization_functions import *\n",
    "from functions_multidim import *\n",
    "%load_ext autoreload\n",
    "%autoreload 2\n",
    "%aimport optimization_functions\n",
    "%aimport functions_multidim   \n"
   ]
  },
  {
   "cell_type": "markdown",
   "id": "45879f33",
   "metadata": {
    "id": "45879f33"
   },
   "source": [
    "Download Stock Prices and create Training Periods"
   ]
  },
  {
   "cell_type": "code",
   "execution_count": null,
   "id": "b72c035f-7783-472a-9968-992eb9221f92",
   "metadata": {},
   "outputs": [],
   "source": [
    "stocks = [\"GOOGL\",\"EBAY\",\"AMZN\",\"MSFT\",\"AAPL\"]\n",
    "d = len(stocks)\n",
    "Returns_train_tf_dict = {}"
   ]
  },
  {
   "cell_type": "code",
   "execution_count": null,
   "id": "e388672a-a48d-4046-9100-f894d40b6475",
   "metadata": {
    "scrolled": true
   },
   "outputs": [],
   "source": [
    "for s in stocks:\n",
    "    S_train = yf.download(s, start=\"2010-01-02\", end=\"2020-02-01\")\n",
    "    S_train = S_train.dropna()\n",
    "    S_train = S_train.reset_index()\n",
    "    S_train = S_train[[\"Date\",\"Close\"]]\n",
    "    \n",
    "    Returns_train = S_train[\"Close\"].diff() / S_train[\"Close\"].shift(1)\n",
    "    Returns_train = Returns_train.dropna()\n",
    "    # A Tensorflow Adaption\n",
    "    Returns_train_tf_dict[s] = tf.reshape(Returns_train,(1,len(Returns_train)))\n",
    "    \n",
    "# Create a d dimensional vector\n",
    "Returns_train_tf = tf.concat([Returns_train_tf_dict[s] for s in stocks],0)"
   ]
  },
  {
   "cell_type": "markdown",
   "id": "c7uBM-l9AIiY",
   "metadata": {
    "id": "c7uBM-l9AIiY"
   },
   "source": [
    "Test Period 1: Feb 2020 - May 2020"
   ]
  },
  {
   "cell_type": "markdown",
   "id": "d91f09b2",
   "metadata": {
    "id": "d91f09b2"
   },
   "source": [
    "# Description of the Algorithm"
   ]
  },
  {
   "cell_type": "markdown",
   "id": "bae5b622",
   "metadata": {
    "id": "bae5b622"
   },
   "source": [
    "For $t = T-1, \\cdots , 1$ :\n",
    "\n",
    "\n",
    "For $j = 1,\\dots, N_{iterations}$:"
   ]
  },
  {
   "cell_type": "markdown",
   "id": "4c62e541",
   "metadata": {
    "id": "4c62e541"
   },
   "source": [
    "Sample $(\\omega_1,\\dots,\\omega_t)=\\omega^t$\n",
    "\n",
    "Sample $(a_0,\\dots,a_{t-1})=a^t$"
   ]
  },
  {
   "cell_type": "markdown",
   "id": "9088fec2",
   "metadata": {
    "id": "9088fec2"
   },
   "source": [
    "For $k = 1,\\dots, N_{measures}$:"
   ]
  },
  {
   "cell_type": "markdown",
   "id": "a8802a8b",
   "metadata": {
    "id": "a8802a8b"
   },
   "source": [
    "Sample next states\n",
    "$w^{t+1, (k),(i)} \\sim \\mathbb{P}_k \\in \\mathcal{P}_t(\\omega^t)$ for $i= 1,\\dots,N_{MC}$\n",
    "\n",
    "<!-- Compute $\\tilde{J}_t(\\omega,a^t, \\tilde{a}) = \\min_k \\frac{1}{N}\\sum_{i=1} \\tilde{\\Psi}_{t+1}((\\omega^t,a^t, \\tilde{a}))$\n",
    "Maximize w.r.t. $\\widetilde{a}$:\n",
    "\n",
    "$\\widetilde{a}_t(\\omega^t,a^t)=argmax_{\\widetilde{a}} \\tilde{J}_t(\\omega,a^t, \\tilde{a})$\n",
    "\n",
    "Approximate\n",
    "\n",
    "$\\tilde{\\Psi}_t(\\omega^t, a^t):= \\tilde{J}_t(\\omega,a^t, \\widetilde{a}_t(\\omega^t,a^t))$ -->"
   ]
  },
  {
   "cell_type": "markdown",
   "id": "e98806fe",
   "metadata": {
    "id": "e98806fe"
   },
   "source": [
    "The optimization step is:\n",
    "\n",
    "1.)\n",
    "\n",
    "Maximize\n",
    "$$\n",
    "\\sup_{\\widetilde{a} \\in A}\\inf_{ P \\in \\mathcal{P}_t(\\omega^t)} E_P \\left[\\Psi_{t+1}\\left(\\omega^t \\otimes_t \\cdot, (a^{t},\\widetilde{a})\\right)\\right]= \\Psi_t(\\omega^t,a^t)\n",
    "$$\n",
    " w.r.t. parameters of $\\tilde{a}(\\omega^t,a^t)$:\n",
    "\n",
    " Alternative:\n",
    "\n",
    " By using a dual approach we have in the special case of a Wasserstein distance\n",
    " $$\n",
    "\\Psi_t(\\omega^t,a^t)=\\sup_{\\widetilde{a} \\in A}\\inf_{ P \\in \\mathcal{P}_t(\\omega^t)} E_P \\left[\\Psi_{t+1}\\left(\\omega^t \\otimes_t \\cdot, (a^{t},\\widetilde{a})\\right)\\right]\n",
    "$$\n",
    "$$\n",
    "= \\sup_{\\widetilde{a} \\in A}\\sup_{ \\lambda \\geq 0} E_{\\widehat{P}} \\left[\\inf_{z} \\left\\{\\Psi_{t+1}\\left(\\omega^t \\otimes_t z, (a^{t},\\widetilde{a})\\right)+\\lambda \\|\\cdot -z\\|\\right\\}\\right] - \\lambda \\varepsilon\n",
    "$$\n",
    "$$\n",
    "= \\sup_{\\widetilde{a} \\in A}\\sup_{ \\lambda \\geq 0} \\frac{1}{N_{MC}} \\sum_{i=1}^{N_{MC}} \\left[\\min_{j=1,\\dots,N} \\left\\{\\Psi_{t+1}\\left(\\omega^t \\otimes_t z_j, (a^{t},\\widetilde{a})\\right)+\\lambda \\|x_i -z_j\\|\\right\\}\\right] - \\lambda \\varepsilon\n",
    "$$\n",
    "$$\n",
    "= \\sup_{\\widetilde{a} \\in A}\\sup_{ \\lambda \\geq 0}  \\sum_{i=t}^{N-1} \\left[\\pi_i(\\omega^t) \\min_{j=1,\\dots,N} \\left\\{\\Psi_{t+1}\\left(\\omega^t \\otimes_t z_j, (a^{t},\\widetilde{a})\\right)+\\lambda \\|\\mathcal{R}_{i+1} -z_j\\|\\right\\}\\right] - \\lambda \\varepsilon\n",
    "$$\n",
    "2.)\n",
    "\n",
    "\n",
    "Minimize\n",
    "$$\n",
    "\\sum_{b=1}^B \\left(\\tilde{\\Psi}_t(\\omega^t_b, a^t_b)- \\left(\\sup_{\\widetilde{a} \\in A}\\sup_{ \\lambda \\geq 0}  \\sum_{i=t}^{N-1} \\left[\\pi_i(\\omega^t) \\min_{j=1,\\dots,N} \\left\\{\\Psi_{t+1}\\left(\\omega^t \\otimes_t z_j, (a^{t},\\widetilde{a})\\right)+\\lambda \\|\\mathcal{R}_{i+1} -z_j\\|\\right\\}\\right] - \\lambda \\varepsilon \\right)  \\right)^2\n",
    "$$\n",
    " w.r.t. parameters of $\\tilde{\\Psi}_t$:"
   ]
  },
  {
   "cell_type": "markdown",
   "id": "12a9cdb1",
   "metadata": {
    "id": "12a9cdb1"
   },
   "source": [
    "Finally, we set:\n",
    "$$\n",
    "\\Omega^t \\ni \\omega^t =(\\omega_1,\\dots,\\omega_{t}) \\mapsto a_t^*(\\omega^t):= \\widetilde{a}_t^*\\left(\\omega^t,~\\left(a_0^*,\\dots,a_{t-1}^*(\\omega_1,\\dots,\\omega_{t-1}\\right)\\right) \\in A.\n",
    "$$"
   ]
  },
  {
   "cell_type": "markdown",
   "id": "b15d2bc8",
   "metadata": {
    "id": "b15d2bc8"
   },
   "source": [
    "# Training"
   ]
  },
  {
   "cell_type": "markdown",
   "id": "1b76e5d4",
   "metadata": {
    "id": "1b76e5d4"
   },
   "source": [
    "Number of periods"
   ]
  },
  {
   "cell_type": "code",
   "execution_count": null,
   "id": "c74e918c",
   "metadata": {
    "id": "c74e918c"
   },
   "outputs": [],
   "source": [
    "T = 10"
   ]
  },
  {
   "cell_type": "markdown",
   "id": "70cd4b6c",
   "metadata": {
    "id": "70cd4b6c"
   },
   "source": [
    "Initialize the dictionaries"
   ]
  },
  {
   "cell_type": "markdown",
   "id": "325d6fd8-d788-4b18-9dbb-e97e71706f69",
   "metadata": {},
   "source": [
    "Set the parameters"
   ]
  },
  {
   "cell_type": "code",
   "execution_count": null,
   "id": "0336c34c-3b29-42ca-be3a-821d8de21a60",
   "metadata": {},
   "outputs": [],
   "source": [
    "inner_psi = 2000\n",
    "inner_a = 500\n",
    "tolerance_psi = 0.0001\n",
    "tolerance_a = 0.00001\n",
    "learning_rate_Psi = 0.001\n",
    "learning_rate_a = 0.001\n",
    "learning_rate_LAM = 0.001\n",
    "# Number of Monte Carlo Simulations\n",
    "N_MC = 128\n",
    "N_MC_inner = 128\n",
    "#Batch Sizes\n",
    "Batch_size_a = 128\n",
    "Batch_size_psi = 128"
   ]
  },
  {
   "cell_type": "markdown",
   "id": "96fd1655-4162-4647-b2d9-88d7c263d613",
   "metadata": {},
   "source": [
    "Train"
   ]
  },
  {
   "cell_type": "code",
   "execution_count": null,
   "id": "5b9649bd",
   "metadata": {
    "colab": {
     "base_uri": "https://localhost:8080/"
    },
    "id": "5b9649bd",
    "outputId": "8c5d4da4-c34e-4997-ae96-1fe1b5f44527"
   },
   "outputs": [],
   "source": [
    "#compute\n",
    "print(\"Start optimization\")\n",
    "print(\"Non-Robust\")\n",
    "a_tilde_5dim, _ = train_networks_ndim(Returns_train_tf,T=T,inner_psi = inner_psi,\n",
    "                   inner_a =inner_a, N_MC=N_MC, N_MC_inner=N_MC_inner,tolerance_psi =tolerance_psi,\n",
    "                   tolerance_a = tolerance_a, learning_rate_Psi = learning_rate_Psi,learning_rate_a = learning_rate_a,\n",
    "                                    learning_rate_LAM = learning_rate_LAM, Batch_size_a = Batch_size_a,\n",
    "                                        Batch_size_psi = Batch_size_psi,print_intermediate_results = True) \n",
    "#save\n",
    "file_save(a_tilde_5dim,\"Basket\",\"Non-Robust_5dim\")\n",
    "\n",
    "#compute\n",
    "print(\"Start optimization\")\n",
    "print(\"Robust, epsilon = 0.0001\")\n",
    "a_tilde_5dim_0001, _ = train_networks_ndim(Returns_train_tf,T=T,inner_psi = inner_psi,\n",
    "                   inner_a =inner_a, N_MC=N_MC, N_MC_inner=N_MC_inner,\n",
    "                   epsilon = 0.0001,tolerance_psi =tolerance_psi,\n",
    "                   tolerance_a = tolerance_a, learning_rate_Psi = learning_rate_Psi,learning_rate_a = learning_rate_a,\n",
    "                                    learning_rate_LAM = learning_rate_LAM,Batch_size_a = Batch_size_a,\n",
    "                                        Batch_size_psi = Batch_size_psi,print_intermediate_results = True)   \n",
    "#save\n",
    "file_save(a_tilde_5dim_0001,\"Basket\",\"Robust_5dim_0001\")\n",
    "\n",
    "\n",
    "\n",
    "#compute\n",
    "print(\"Start optimization\")\n",
    "print(\"Robust, epsilon = 0.001\")\n",
    "a_tilde_5dim_001, _ = train_networks_ndim(Returns_train_tf,T=T,inner_psi = inner_psi,\n",
    "                   inner_a =inner_a,  N_MC=N_MC, N_MC_inner=N_MC_inner, epsilon = 0.001,tolerance_psi =tolerance_psi,\n",
    "                   tolerance_a = tolerance_a, learning_rate_Psi = learning_rate_Psi,learning_rate_a = learning_rate_a,\n",
    "                                    learning_rate_LAM = learning_rate_LAM, Batch_size_a = Batch_size_a,\n",
    "                                        Batch_size_psi = Batch_size_psi)  \n",
    "#save\n",
    "file_save(a_tilde_5dim_001,\"Basket\",\"Robust_5dim_001\")"
   ]
  }
 ],
 "metadata": {
  "accelerator": "GPU",
  "colab": {
   "gpuType": "V100",
   "provenance": []
  },
  "kernelspec": {
   "display_name": "Python 3 (ipykernel)",
   "language": "python",
   "name": "python3"
  },
  "language_info": {
   "codemirror_mode": {
    "name": "ipython",
    "version": 3
   },
   "file_extension": ".py",
   "mimetype": "text/x-python",
   "name": "python",
   "nbconvert_exporter": "python",
   "pygments_lexer": "ipython3",
   "version": "3.11.8"
  }
 },
 "nbformat": 4,
 "nbformat_minor": 5
}
